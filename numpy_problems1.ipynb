{
 "cells": [
  {
   "cell_type": "markdown",
   "id": "a10a2072",
   "metadata": {
    "papermill": {
     "duration": 0.008516,
     "end_time": "2023-09-04T16:32:19.998293",
     "exception": false,
     "start_time": "2023-09-04T16:32:19.989777",
     "status": "completed"
    },
    "tags": []
   },
  
  },
  {
   "cell_type": "markdown",
   "id": "7c35bdef",
   "metadata": {
    "papermill": {
     "duration": 0.007357,
     "end_time": "2023-09-04T16:32:20.014053",
     "exception": false,
     "start_time": "2023-09-04T16:32:20.006696",
     "status": "completed"
    },
    "tags": []
   },
   "source": [
    "1 - Rastgele bir zar atıldığında her bir yüzün gelme olasılığını hesaplayın. Ardından bir madeni para atıldığında yazı veya tura gelme olasılığını hesaplayın. Bu iki olayın bir arada gerçekleşme olasılığını nasıl bulursunuz?"
   ]
  },
  {
   "cell_type": "code",
   "execution_count": 1,
   "id": "c3b53f9a",
   "metadata": {
    "execution": {
     "iopub.execute_input": "2023-09-04T16:32:20.032033Z",
     "iopub.status.busy": "2023-09-04T16:32:20.031341Z",
     "iopub.status.idle": "2023-09-04T16:32:20.043091Z",
     "shell.execute_reply": "2023-09-04T16:32:20.042028Z"
    },
    "papermill": {
     "duration": 0.024375,
     "end_time": "2023-09-04T16:32:20.046742",
     "exception": false,
     "start_time": "2023-09-04T16:32:20.022367",
     "status": "completed"
    },
    "tags": []
   },
   "outputs": [
    {
     "data": {
      "text/plain": [
       "0.08333333333333333"
      ]
     },
     "execution_count": 1,
     "metadata": {},
     "output_type": "execute_result"
    }
   ],
   "source": [
    "#Rastgele bir zar atıldığında her bir yüzün gelme olasılığı\n",
    "p1=1/2\n",
    "#Bir madeni para atıldığında yazı veya tura gelme olasılığı\n",
    "p2=1/6\n",
    "#Bu iki olayın bir arada gerçekleşme olasılığı\n",
    "p1*p2"
   ]
  },
  {
   "cell_type": "markdown",
   "id": "d645dfc2",
   "metadata": {
    "papermill": {
     "duration": 0.007481,
     "end_time": "2023-09-04T16:32:20.062383",
     "exception": false,
     "start_time": "2023-09-04T16:32:20.054902",
     "status": "completed"
    },
    "tags": []
   },
   "source": [
    "2 - Bir torbada 5 kırmızı, 7 mavi ve 8 yeşil top bulunmaktadır. Rastgele bir top çekildiğinde mavi gelme olasılığını hesaplayın."
   ]
  },
  {
   "cell_type": "code",
   "execution_count": 2,
   "id": "f1feb36a",
   "metadata": {
    "execution": {
     "iopub.execute_input": "2023-09-04T16:32:20.080984Z",
     "iopub.status.busy": "2023-09-04T16:32:20.080581Z",
     "iopub.status.idle": "2023-09-04T16:32:20.087346Z",
     "shell.execute_reply": "2023-09-04T16:32:20.086286Z"
    },
    "papermill": {
     "duration": 0.017982,
     "end_time": "2023-09-04T16:32:20.089566",
     "exception": false,
     "start_time": "2023-09-04T16:32:20.071584",
     "status": "completed"
    },
    "tags": []
   },
   "outputs": [
    {
     "data": {
      "text/plain": [
       "0.35"
      ]
     },
     "execution_count": 2,
     "metadata": {},
     "output_type": "execute_result"
    }
   ],
   "source": [
    "#Mavi top sayısı\n",
    "m1 = 7\n",
    "#Toplam top sayısı\n",
    "m2=5+7+8\n",
    "#Rastgele bir top çekildiğinde mavi gelme olasılığı\n",
    "m1/m2"
   ]
  },
  {
   "cell_type": "markdown",
   "id": "38f97470",
   "metadata": {
    "papermill": {
     "duration": 0.007574,
     "end_time": "2023-09-04T16:32:20.105176",
     "exception": false,
     "start_time": "2023-09-04T16:32:20.097602",
     "status": "completed"
    },
    "tags": []
   },
   "source": [
    "3 - Verilen bir veri kümesi için ortalama, medyan ve mod değerlerini bulun:\n",
    "> 12,15,14,10,10,13,17,19,10,14,14,15"
   ]
  },
  {
   "cell_type": "code",
   "execution_count": 3,
   "id": "efaf3110",
   "metadata": {
    "execution": {
     "iopub.execute_input": "2023-09-04T16:32:20.123575Z",
     "iopub.status.busy": "2023-09-04T16:32:20.123143Z",
     "iopub.status.idle": "2023-09-04T16:32:20.143401Z",
     "shell.execute_reply": "2023-09-04T16:32:20.142246Z"
    },
    "papermill": {
     "duration": 0.032381,
     "end_time": "2023-09-04T16:32:20.145999",
     "exception": false,
     "start_time": "2023-09-04T16:32:20.113618",
     "status": "completed"
    },
    "tags": []
   },
   "outputs": [
    {
     "name": "stdout",
     "output_type": "stream",
     "text": [
      "mean: 13.583333333333334 median: 14.0 mode: 0    10\n",
      "1    14\n",
      "dtype: int64\n"
     ]
    }
   ],
   "source": [
    "import pandas as pd\n",
    "a = pd.Series([12,15,14,10,10,13,17,19,10,14,14,15])\n",
    "b0 = a.mean()\n",
    "b1 = a.median()\n",
    "b2 = a.mode()\n",
    "print('mean:',b0,'median:',b1,'mode:',b2)"
   ]
  },
  {
   "cell_type": "markdown",
   "id": "801ffaa5",
   "metadata": {
    "papermill": {
     "duration": 0.007786,
     "end_time": "2023-09-04T16:32:20.162305",
     "exception": false,
     "start_time": "2023-09-04T16:32:20.154519",
     "status": "completed"
    },
    "tags": []
   },
   "source": [
    "4 - Yukarıdaki verilen veri kümesi için standart sapma hesaplayın"
   ]
  },
  {
   "cell_type": "code",
   "execution_count": 4,
   "id": "ab620c80",
   "metadata": {
    "execution": {
     "iopub.execute_input": "2023-09-04T16:32:20.183242Z",
     "iopub.status.busy": "2023-09-04T16:32:20.180626Z",
     "iopub.status.idle": "2023-09-04T16:32:20.188385Z",
     "shell.execute_reply": "2023-09-04T16:32:20.187287Z"
    },
    "papermill": {
     "duration": 0.020256,
     "end_time": "2023-09-04T16:32:20.190701",
     "exception": false,
     "start_time": "2023-09-04T16:32:20.170445",
     "status": "completed"
    },
    "tags": []
   },
   "outputs": [
    {
     "name": "stdout",
     "output_type": "stream",
     "text": [
      "2.810963384947437\n"
     ]
    }
   ],
   "source": [
    "b3 = a.std()\n",
    "print(b3)"
   ]
  },
  {
   "cell_type": "markdown",
   "id": "16279d24",
   "metadata": {
    "papermill": {
     "duration": 0.008076,
     "end_time": "2023-09-04T16:32:20.207354",
     "exception": false,
     "start_time": "2023-09-04T16:32:20.199278",
     "status": "completed"
    },
    "tags": []
   },
   "source": [
    "5 - Sola/sağa çarpık dağılım nedir? Python kullanarak, bir veri kümesinin dağılımının sola mı yoksa sağa mı çarpık olduğunu nasıl tespit edersiniz?"
   ]
  },
  {
   "cell_type": "markdown",
   "id": "82105694",
   "metadata": {
    "papermill": {
     "duration": 0.007741,
     "end_time": "2023-09-04T16:32:20.223360",
     "exception": false,
     "start_time": "2023-09-04T16:32:20.215619",
     "status": "completed"
    },
    "tags": []
   },
   "source": [
    "- Sola/sağa çarpık dağılım değerlerin bir tablo üzerinden düşünürsek normal bir şekilde değil de sola veya sağa ağırlıklı dağılımıdır. Ortalama medyandan küçükse sağa çarpık tam tersi durumda sola çarpık olduğunu anlarız. Pythonda da yukarıda bulduğumuz şekilde bu değerleri bulup ortalamadan medyanı çıkartırsak pozitif değerler sağa çarpık negatif değerler ise sola çarppık olduğunu belirtecektir."
   ]
  },
  {
   "cell_type": "markdown",
   "id": "33b7ad86",
   "metadata": {
    "papermill": {
     "duration": 0.007645,
     "end_time": "2023-09-04T16:32:20.238984",
     "exception": false,
     "start_time": "2023-09-04T16:32:20.231339",
     "status": "completed"
    },
    "tags": []
   },
   "source": [
    "6 - Python'da NumPy kütüphanesini nasıl içe aktarırsınız?"
   ]
  },
  {
   "cell_type": "code",
   "execution_count": 5,
   "id": "cd565859",
   "metadata": {
    "execution": {
     "iopub.execute_input": "2023-09-04T16:32:20.256948Z",
     "iopub.status.busy": "2023-09-04T16:32:20.256519Z",
     "iopub.status.idle": "2023-09-04T16:32:20.261251Z",
     "shell.execute_reply": "2023-09-04T16:32:20.260162Z"
    },
    "papermill": {
     "duration": 0.016661,
     "end_time": "2023-09-04T16:32:20.263621",
     "exception": false,
     "start_time": "2023-09-04T16:32:20.246960",
     "status": "completed"
    },
    "tags": []
   },
   "outputs": [],
   "source": [
    "import numpy as np"
   ]
  },
  {
   "cell_type": "markdown",
   "id": "98c94763",
   "metadata": {
    "papermill": {
     "duration": 0.007805,
     "end_time": "2023-09-04T16:32:20.279568",
     "exception": false,
     "start_time": "2023-09-04T16:32:20.271763",
     "status": "completed"
    },
    "tags": []
   },
   "source": [
    "7 - Numpy arrayleri pythondaki list yapısına kıyasla çok daha verimlidir ve matematiksel işlemler söz konusu olduğunda sıklıkla ndarrayleri tercih ederiz. Bunun sebebi nedir? Sebepleri en az 5 maddeyle açıklayınız."
   ]
  },
  {
   "cell_type": "markdown",
   "id": "a56b2827",
   "metadata": {
    "papermill": {
     "duration": 0.007825,
     "end_time": "2023-09-04T16:32:20.296052",
     "exception": false,
     "start_time": "2023-09-04T16:32:20.288227",
     "status": "completed"
    },
    "tags": []
   },
   "source": [
    "- NumPy arrayleri homojen veri tiplerini içerir, bu da bellek verimliliğini artırır ve gereksiz tür dönüşümlerine ihtiyaç duyulmaz.\n",
    "\n",
    "- NumPy, C dilinde yazılmış optimize edilmiş matematiksel işlevleri kullanarak işlemleri hızlandırır ve Python listelerine göre daha hızlıdır.\n",
    "\n",
    "- NumPy, farklı boyutlardaki dizileri işleme yeteneği olan yayma (broadcasting) özelliği sunar, bu da dizileri birleştirirken ve işlerken daha fazla esneklik sağlar.\n",
    "\n",
    "- NumPy, matematiksel işlemler için evrensel fonksiyonlar içerir ve bu işlevler hızlı ve optimize edilmiştir.\n",
    "\n",
    "- NumPy, paralel hesaplama kütüphaneleriyle entegre edilebilir ve büyük veri kümeleri üzerinde paralel hesaplamalar yapma yeteneği sunar."
   ]
  },
  {
   "cell_type": "markdown",
   "id": "ecf16976",
   "metadata": {
    "papermill": {
     "duration": 0.007903,
     "end_time": "2023-09-04T16:32:20.312404",
     "exception": false,
     "start_time": "2023-09-04T16:32:20.304501",
     "status": "completed"
    },
    "tags": []
   },
   "source": [
    "Yanıt: "
   ]
  },
  {
   "cell_type": "markdown",
   "id": "aa868e6d",
   "metadata": {
    "papermill": {
     "duration": 0.00762,
     "end_time": "2023-09-04T16:32:20.327977",
     "exception": false,
     "start_time": "2023-09-04T16:32:20.320357",
     "status": "completed"
    },
    "tags": []
   },
   "source": [
    "8 - 0’dan 100'e kadar olan sayıları içeren bir NumPy dizisi oluşturun. Ardından bu diziyi 10x10 matrise dönüştürün.\n"
   ]
  },
  {
   "cell_type": "code",
   "execution_count": 6,
   "id": "1fc33f41",
   "metadata": {
    "execution": {
     "iopub.execute_input": "2023-09-04T16:32:20.346232Z",
     "iopub.status.busy": "2023-09-04T16:32:20.345840Z",
     "iopub.status.idle": "2023-09-04T16:32:20.353617Z",
     "shell.execute_reply": "2023-09-04T16:32:20.352863Z"
    },
    "papermill": {
     "duration": 0.019475,
     "end_time": "2023-09-04T16:32:20.355547",
     "exception": false,
     "start_time": "2023-09-04T16:32:20.336072",
     "status": "completed"
    },
    "tags": []
   },
   "outputs": [
    {
     "data": {
      "text/plain": [
       "array([[  1,   2,   3,   4,   5,   6,   7,   8,   9,  10],\n",
       "       [ 11,  12,  13,  14,  15,  16,  17,  18,  19,  20],\n",
       "       [ 21,  22,  23,  24,  25,  26,  27,  28,  29,  30],\n",
       "       [ 31,  32,  33,  34,  35,  36,  37,  38,  39,  40],\n",
       "       [ 41,  42,  43,  44,  45,  46,  47,  48,  49,  50],\n",
       "       [ 51,  52,  53,  54,  55,  56,  57,  58,  59,  60],\n",
       "       [ 61,  62,  63,  64,  65,  66,  67,  68,  69,  70],\n",
       "       [ 71,  72,  73,  74,  75,  76,  77,  78,  79,  80],\n",
       "       [ 81,  82,  83,  84,  85,  86,  87,  88,  89,  90],\n",
       "       [ 91,  92,  93,  94,  95,  96,  97,  98,  99, 100]])"
      ]
     },
     "execution_count": 6,
     "metadata": {},
     "output_type": "execute_result"
    }
   ],
   "source": [
    "a1 = np.arange(1,101)\n",
    "a2 = np.arange(1,101).reshape(10,10)\n",
    "a2"
   ]
  },
  {
   "cell_type": "markdown",
   "id": "3dfc99eb",
   "metadata": {
    "papermill": {
     "duration": 0.007961,
     "end_time": "2023-09-04T16:32:20.371781",
     "exception": false,
     "start_time": "2023-09-04T16:32:20.363820",
     "status": "completed"
    },
    "tags": []
   },
   "source": [
    "9 - Yukarıda oluşturduğunuz matrisin her bir sütununun ortalamasını bulun."
   ]
  },
  {
   "cell_type": "code",
   "execution_count": 7,
   "id": "9b7a1967",
   "metadata": {
    "execution": {
     "iopub.execute_input": "2023-09-04T16:32:20.390064Z",
     "iopub.status.busy": "2023-09-04T16:32:20.389076Z",
     "iopub.status.idle": "2023-09-04T16:32:20.396385Z",
     "shell.execute_reply": "2023-09-04T16:32:20.395612Z"
    },
    "papermill": {
     "duration": 0.018572,
     "end_time": "2023-09-04T16:32:20.398417",
     "exception": false,
     "start_time": "2023-09-04T16:32:20.379845",
     "status": "completed"
    },
    "tags": []
   },
   "outputs": [
    {
     "data": {
      "text/plain": [
       "array([46., 47., 48., 49., 50., 51., 52., 53., 54., 55.])"
      ]
     },
     "execution_count": 7,
     "metadata": {},
     "output_type": "execute_result"
    }
   ],
   "source": [
    "a2.mean(axis=0)"
   ]
  },
  {
   "cell_type": "markdown",
   "id": "032a4392",
   "metadata": {
    "papermill": {
     "duration": 0.008206,
     "end_time": "2023-09-04T16:32:20.415320",
     "exception": false,
     "start_time": "2023-09-04T16:32:20.407114",
     "status": "completed"
    },
    "tags": []
   },
   "source": [
    "10 - `np.arange(16).reshape(4, 4)` ile oluşturulan bir matrisi yatay olarak iki eşit parçaya ayırın (split).\n"
   ]
  },
  {
   "cell_type": "code",
   "execution_count": 8,
   "id": "ddaab625",
   "metadata": {
    "execution": {
     "iopub.execute_input": "2023-09-04T16:32:20.434789Z",
     "iopub.status.busy": "2023-09-04T16:32:20.433731Z",
     "iopub.status.idle": "2023-09-04T16:32:20.441870Z",
     "shell.execute_reply": "2023-09-04T16:32:20.440786Z"
    },
    "papermill": {
     "duration": 0.02055,
     "end_time": "2023-09-04T16:32:20.444259",
     "exception": false,
     "start_time": "2023-09-04T16:32:20.423709",
     "status": "completed"
    },
    "tags": []
   },
   "outputs": [
    {
     "data": {
      "text/plain": [
       "[array([[0, 1, 2, 3],\n",
       "        [4, 5, 6, 7]]),\n",
       " array([[ 8,  9, 10, 11],\n",
       "        [12, 13, 14, 15]])]"
      ]
     },
     "execution_count": 8,
     "metadata": {},
     "output_type": "execute_result"
    }
   ],
   "source": [
    "a3 = np.arange(16).reshape(4, 4)\n",
    "a3 = np.split(a3,2)\n",
    "a3"
   ]
  },
  {
   "cell_type": "markdown",
   "id": "5f85be13",
   "metadata": {
    "papermill": {
     "duration": 0.008217,
     "end_time": "2023-09-04T16:32:20.460995",
     "exception": false,
     "start_time": "2023-09-04T16:32:20.452778",
     "status": "completed"
    },
    "tags": []
   },
   "source": [
    "11 - Aşağıdaki gibi bir NumPy dizisi oluşturun:\n",
    ">     arr = np.array([[1, 2, 3, 4], [5, 6, 7, 8], [9, 10, 11, 12], [13, 14, 15, 16]]),\n",
    "* Bu dizi üzerinden ilk iki satırı ve ilk iki sütunu dilimleyerek (slice) yeni bir alt dizi elde edin. \n",
    "* Yukarıda verilen arr dizisinden, sadece tek sayılardan oluşan bir dizi elde edin."
   ]
  },
  {
   "cell_type": "code",
   "execution_count": 9,
   "id": "a9a8ed84",
   "metadata": {
    "execution": {
     "iopub.execute_input": "2023-09-04T16:32:20.480219Z",
     "iopub.status.busy": "2023-09-04T16:32:20.479250Z",
     "iopub.status.idle": "2023-09-04T16:32:20.486256Z",
     "shell.execute_reply": "2023-09-04T16:32:20.484811Z"
    },
    "papermill": {
     "duration": 0.018933,
     "end_time": "2023-09-04T16:32:20.488454",
     "exception": false,
     "start_time": "2023-09-04T16:32:20.469521",
     "status": "completed"
    },
    "tags": []
   },
   "outputs": [
    {
     "name": "stdout",
     "output_type": "stream",
     "text": [
      "arr1: [[1 2]\n",
      " [5 6]] arr2: [[ 1  3]\n",
      " [ 5  7]\n",
      " [ 9 11]\n",
      " [13 15]]\n"
     ]
    }
   ],
   "source": [
    "arr = np.arange(1,17).reshape(4, 4)\n",
    "arr1 = arr[0:2,0:2]\n",
    "arr2 = arr[0:4,0::2]\n",
    "\n",
    "print('arr1:',arr1,'arr2:',arr2)"
   ]
  },
  {
   "cell_type": "markdown",
   "id": "a2f08e9f",
   "metadata": {
    "papermill": {
     "duration": 0.008187,
     "end_time": "2023-09-04T16:32:20.505507",
     "exception": false,
     "start_time": "2023-09-04T16:32:20.497320",
     "status": "completed"
    },
    "tags": []
   },
   "source": [
    "12 - Aşağıda verilen iki diziyi dikey olarak üst üste ekleyin (stack):\n",
    "> a = np.array([1, 2, 3])\n",
    "\n",
    "> b = np.array([4, 5, 6])"
   ]
  },
  {
   "cell_type": "code",
   "execution_count": 10,
   "id": "ac3d4f9b",
   "metadata": {
    "execution": {
     "iopub.execute_input": "2023-09-04T16:32:20.524504Z",
     "iopub.status.busy": "2023-09-04T16:32:20.523797Z",
     "iopub.status.idle": "2023-09-04T16:32:20.531278Z",
     "shell.execute_reply": "2023-09-04T16:32:20.530228Z"
    },
    "papermill": {
     "duration": 0.019591,
     "end_time": "2023-09-04T16:32:20.533680",
     "exception": false,
     "start_time": "2023-09-04T16:32:20.514089",
     "status": "completed"
    },
    "tags": []
   },
   "outputs": [
    {
     "data": {
      "text/plain": [
       "array([[1, 2, 3],\n",
       "       [4, 5, 6]])"
      ]
     },
     "execution_count": 10,
     "metadata": {},
     "output_type": "execute_result"
    }
   ],
   "source": [
    "a = np.array([1, 2, 3])\n",
    "\n",
    "b = np.array([4, 5, 6])\n",
    "\n",
    "c = np.stack((a,b),axis=0)\n",
    "c"
   ]
  },
  {
   "cell_type": "markdown",
   "id": "73f00bd2",
   "metadata": {
    "papermill": {
     "duration": 0.00823,
     "end_time": "2023-09-04T16:32:20.550870",
     "exception": false,
     "start_time": "2023-09-04T16:32:20.542640",
     "status": "completed"
    },
    "tags": []
   },
   "source": [
    "13 - Aşağıdaki gibi iki farklı dizi oluşturun:\n",
    "> arr1 = np.array([[1, 2], [3, 4]])\n",
    "\n",
    "> arr2 = np.array([[5, 6]])\n",
    "\n",
    "arr2 dizisini arr1 dizisinin altına ekleyin ve elde edilen bu yeni dizi üzerinden son satırı ve son sütunu dilimleyin."
   ]
  },
  {
   "cell_type": "code",
   "execution_count": 11,
   "id": "648e291a",
   "metadata": {
    "execution": {
     "iopub.execute_input": "2023-09-04T16:32:20.569548Z",
     "iopub.status.busy": "2023-09-04T16:32:20.569190Z",
     "iopub.status.idle": "2023-09-04T16:32:20.576989Z",
     "shell.execute_reply": "2023-09-04T16:32:20.575812Z"
    },
    "papermill": {
     "duration": 0.019836,
     "end_time": "2023-09-04T16:32:20.579165",
     "exception": false,
     "start_time": "2023-09-04T16:32:20.559329",
     "status": "completed"
    },
    "tags": []
   },
   "outputs": [
    {
     "data": {
      "text/plain": [
       "array([[6]])"
      ]
     },
     "execution_count": 11,
     "metadata": {},
     "output_type": "execute_result"
    }
   ],
   "source": [
    "arr1 = np.array([[1, 2], [3, 4]])\n",
    "\n",
    "arr2 = np.array([[5, 6]])\n",
    "\n",
    "arr3 = np.vstack([arr1,arr2])\n",
    "arr3 = arr3[2:3,1:2]\n",
    "arr3"
   ]
  },
  {
   "cell_type": "markdown",
   "id": "9f1e32a9",
   "metadata": {
    "papermill": {
     "duration": 0.008573,
     "end_time": "2023-09-04T16:32:20.596400",
     "exception": false,
     "start_time": "2023-09-04T16:32:20.587827",
     "status": "completed"
    },
    "tags": []
   },
   "source": [
    "14 - `np.arange(30).reshape(5, 6)` ile oluşturulan bir matrisin ilk 3 satırını alın ve bu 3 satırı 2 eşit parçaya ayırın.\n"
   ]
  },
  {
   "cell_type": "code",
   "execution_count": 12,
   "id": "8ae608f9",
   "metadata": {
    "execution": {
     "iopub.execute_input": "2023-09-04T16:32:20.615804Z",
     "iopub.status.busy": "2023-09-04T16:32:20.615405Z",
     "iopub.status.idle": "2023-09-04T16:32:20.622042Z",
     "shell.execute_reply": "2023-09-04T16:32:20.621005Z"
    },
    "papermill": {
     "duration": 0.019172,
     "end_time": "2023-09-04T16:32:20.624415",
     "exception": false,
     "start_time": "2023-09-04T16:32:20.605243",
     "status": "completed"
    },
    "tags": []
   },
   "outputs": [
    {
     "name": "stdout",
     "output_type": "stream",
     "text": [
      "b3: [[0 1 2]\n",
      " [3 4 5]\n",
      " [6 7 8]] b4: [[ 9 10 11]\n",
      " [12 13 14]\n",
      " [15 16 17]]\n"
     ]
    }
   ],
   "source": [
    "b1 = np.arange(30).reshape(5, 6)\n",
    "b1 = b1[0:3]\n",
    "b2 = b1.reshape(6,3)\n",
    "b3 = b2[0:3]\n",
    "b4 = b2[3:6]\n",
    "print('b3:',b3,'b4:',b4)"
   ]
  },
  {
   "cell_type": "markdown",
   "id": "0967b2ca",
   "metadata": {
    "papermill": {
     "duration": 0.008616,
     "end_time": "2023-09-04T16:32:20.641919",
     "exception": false,
     "start_time": "2023-09-04T16:32:20.633303",
     "status": "completed"
    },
    "tags": []
   },
   "source": [
    "15 -  `np.arange(1, 17).reshape(4, 4)` dizi üzerinden her satırın ikinci elemanını alarak yeni bir dizi oluşturun. Ardından bu yeni diziyi orijinal dizinin sağına ekleyin"
   ]
  },
  {
   "cell_type": "code",
   "execution_count": 13,
   "id": "e17801b9",
   "metadata": {
    "execution": {
     "iopub.execute_input": "2023-09-04T16:32:20.661433Z",
     "iopub.status.busy": "2023-09-04T16:32:20.661050Z",
     "iopub.status.idle": "2023-09-04T16:32:20.668106Z",
     "shell.execute_reply": "2023-09-04T16:32:20.666925Z"
    },
    "papermill": {
     "duration": 0.01978,
     "end_time": "2023-09-04T16:32:20.670440",
     "exception": false,
     "start_time": "2023-09-04T16:32:20.650660",
     "status": "completed"
    },
    "tags": []
   },
   "outputs": [
    {
     "data": {
      "text/plain": [
       "array([ 3,  7, 11, 15])"
      ]
     },
     "execution_count": 13,
     "metadata": {},
     "output_type": "execute_result"
    }
   ],
   "source": [
    "n0 = np.arange(1, 17).reshape(4, 4)\n",
    "n1 = n0[0:4,2]\n",
    "n1"
   ]
  }
 ],
 "kernelspec": {
  "display_name": "Python 3",
  "language": "python",
  "name": "python3"
 },
 "language_info": {
  "codemirror_mode": {
   "name": "ipython",
   "version": 3
  },
  "file_extension": ".py",
  "mimetype": "text/x-python",
  "name": "python",
  "nbconvert_exporter": "python",
  "pygments_lexer": "ipython3",
  "version": "3.6.4"
 },
 "metadata": {
  "kernelspec": {
   "display_name": "Python 3",
   "language": "python",
   "name": "python3"
  },
  "language_info": {
   "codemirror_mode": {
    "name": "ipython",
    "version": 3
   },
   "file_extension": ".py",
   "mimetype": "text/x-python",
   "name": "python",
   "nbconvert_exporter": "python",
   "pygments_lexer": "ipython3",
   "version": "3.10.12"
  },
  "papermill": {
   "default_parameters": {},
   "duration": 12.012039,
   "end_time": "2023-09-04T16:32:21.501562",
   "environment_variables": {},
   "exception": null,
   "input_path": "__notebook__.ipynb",
   "output_path": "__notebook__.ipynb",
   "parameters": {},
   "start_time": "2023-09-04T16:32:09.489523",
   "version": "2.4.0"
  }
 },
 "nbformat": 4,
 "nbformat_minor": 5
}
